{
 "cells": [
  {
   "cell_type": "code",
   "execution_count": 20,
   "id": "a4e148a4-c9d8-43e6-9fe4-0a28f21a739d",
   "metadata": {},
   "outputs": [],
   "source": [
    "import pandas as pd\n",
    "import nltk\n",
    "from nltk.sentiment import SentimentIntensityAnalyzer"
   ]
  },
  {
   "cell_type": "code",
   "execution_count": 21,
   "id": "a2988931-7228-45cd-ba57-2a070df33a9d",
   "metadata": {},
   "outputs": [],
   "source": [
    "df = pd.read_csv(r\"C:\\Users\\Shagufta\\OneDrive\\Documents\\Data Analyst\\Power BI\\Dashboard\\CCTV\\cctv_ecommerce_dataset.csv\")"
   ]
  },
  {
   "cell_type": "markdown",
   "id": "a28e51ab",
   "metadata": {},
   "source": [
    "Sentiment Analysis with VADER"
   ]
  },
  {
   "cell_type": "markdown",
   "id": "13f7ab1f-f8fd-4da1-98da-a7364185f06c",
   "metadata": {},
   "source": [
    "For 5 categories: Negative, Mixed Negative, Neutral, Mixed Positive, Positive"
   ]
  },
  {
   "cell_type": "code",
   "execution_count": 22,
   "id": "f3121528-648d-4aa3-b747-a4db7613b8ef",
   "metadata": {},
   "outputs": [],
   "source": [
    "sia = SentimentIntensityAnalyzer()"
   ]
  },
  {
   "cell_type": "code",
   "execution_count": 23,
   "id": "9c23d5c1",
   "metadata": {},
   "outputs": [
    {
     "data": {
      "text/plain": [
       "Index(['Cust_id', 'Cust_name', 'Cust_age', 'Cust_gender', 'City', 'State',\n",
       "       'Pin_code', 'Order_id', 'Qty', 'Discount_amt', 'Delivery_fees', 'Total',\n",
       "       'Order_date', 'Delivery_date', 'Delivery_status', 'Shipping_Partner',\n",
       "       'Cust_review'],\n",
       "      dtype='object')"
      ]
     },
     "execution_count": 23,
     "metadata": {},
     "output_type": "execute_result"
    }
   ],
   "source": [
    "df.columns"
   ]
  },
  {
   "cell_type": "code",
   "execution_count": 24,
   "id": "d2ef03af-d5bf-4a16-bb3a-a81a1fe0a33c",
   "metadata": {},
   "outputs": [],
   "source": [
    "def get_polarity_scores(text):\n",
    "    return sia.polarity_scores(str(text))['compound']\n",
    "\n",
    "df['polarity_score'] = df['Cust_review'].apply(get_polarity_scores)"
   ]
  },
  {
   "cell_type": "code",
   "execution_count": 25,
   "id": "eea8b524-b85b-4ce3-bfe7-e9d2e8461a26",
   "metadata": {},
   "outputs": [
    {
     "data": {
      "text/html": [
       "<div>\n",
       "<style scoped>\n",
       "    .dataframe tbody tr th:only-of-type {\n",
       "        vertical-align: middle;\n",
       "    }\n",
       "\n",
       "    .dataframe tbody tr th {\n",
       "        vertical-align: top;\n",
       "    }\n",
       "\n",
       "    .dataframe thead th {\n",
       "        text-align: right;\n",
       "    }\n",
       "</style>\n",
       "<table border=\"1\" class=\"dataframe\">\n",
       "  <thead>\n",
       "    <tr style=\"text-align: right;\">\n",
       "      <th></th>\n",
       "      <th>Order_id</th>\n",
       "      <th>polarity_score</th>\n",
       "    </tr>\n",
       "  </thead>\n",
       "  <tbody>\n",
       "    <tr>\n",
       "      <th>4044</th>\n",
       "      <td>5226</td>\n",
       "      <td>0.6249</td>\n",
       "    </tr>\n",
       "    <tr>\n",
       "      <th>2801</th>\n",
       "      <td>5959</td>\n",
       "      <td>0.0000</td>\n",
       "    </tr>\n",
       "    <tr>\n",
       "      <th>1168</th>\n",
       "      <td>5999</td>\n",
       "      <td>-0.2960</td>\n",
       "    </tr>\n",
       "    <tr>\n",
       "      <th>3831</th>\n",
       "      <td>7333</td>\n",
       "      <td>0.4404</td>\n",
       "    </tr>\n",
       "    <tr>\n",
       "      <th>3278</th>\n",
       "      <td>7307</td>\n",
       "      <td>0.0000</td>\n",
       "    </tr>\n",
       "  </tbody>\n",
       "</table>\n",
       "</div>"
      ],
      "text/plain": [
       "      Order_id  polarity_score\n",
       "4044      5226          0.6249\n",
       "2801      5959          0.0000\n",
       "1168      5999         -0.2960\n",
       "3831      7333          0.4404\n",
       "3278      7307          0.0000"
      ]
     },
     "execution_count": 25,
     "metadata": {},
     "output_type": "execute_result"
    }
   ],
   "source": [
    "df.sample(5)[['Order_id','polarity_score']]"
   ]
  },
  {
   "cell_type": "code",
   "execution_count": 26,
   "id": "29c1fe99-c31c-46d2-ba03-bfcaaf82a9cb",
   "metadata": {},
   "outputs": [
    {
     "name": "stdout",
     "output_type": "stream",
     "text": [
      "Max Score 0.8047\n",
      "Min Score -0.6369\n"
     ]
    }
   ],
   "source": [
    "print(\"Max Score\", df['polarity_score'].max())\n",
    "print(\"Min Score\", df['polarity_score'].min())"
   ]
  },
  {
   "cell_type": "code",
   "execution_count": 27,
   "id": "ae504686-3bd1-47c2-8bbc-85209e929808",
   "metadata": {},
   "outputs": [
    {
     "data": {
      "text/plain": [
       "array([-0.6369 , -0.34858, -0.06026,  0.22806,  0.51638,  0.8047 ])"
      ]
     },
     "execution_count": 27,
     "metadata": {},
     "output_type": "execute_result"
    }
   ],
   "source": [
    "#Generate 5 evenly spaced numbers/bins\n",
    "import numpy as np\n",
    "min_score = df['polarity_score'].min()\n",
    "max_score = df['polarity_score'].max()\n",
    "bins = np.linspace(min_score, max_score, 6)\n",
    "bins"
   ]
  },
  {
   "cell_type": "code",
   "execution_count": 29,
   "id": "87a7cb13-ff9c-4d89-a97b-3396d0560667",
   "metadata": {},
   "outputs": [],
   "source": [
    "def cat_senti(text):\n",
    "    score = sia.polarity_scores(str(text))['compound']\n",
    "    if 0.5164 <= score <= 0.8047:\n",
    "        return 'Positive'\n",
    "    elif 0.2281 <= score < 0.5164:\n",
    "        return 'Mixed Positive'\n",
    "    elif -0.0603 <= score < 0.2281:\n",
    "        return 'Neutral'\n",
    "    elif -0.3486 <= score < -0.0603:\n",
    "        return 'Mixed Negative'\n",
    "    else:  # score < -0.3486\n",
    "        return 'Negative'\n",
    "\n",
    "df['Sentiment'] = df['Cust_review'].apply(cat_senti)"
   ]
  },
  {
   "cell_type": "code",
   "execution_count": 30,
   "id": "91aa741d-d1b9-4344-b8a5-9597d3df221a",
   "metadata": {},
   "outputs": [
    {
     "data": {
      "text/html": [
       "<div>\n",
       "<style scoped>\n",
       "    .dataframe tbody tr th:only-of-type {\n",
       "        vertical-align: middle;\n",
       "    }\n",
       "\n",
       "    .dataframe tbody tr th {\n",
       "        vertical-align: top;\n",
       "    }\n",
       "\n",
       "    .dataframe thead th {\n",
       "        text-align: right;\n",
       "    }\n",
       "</style>\n",
       "<table border=\"1\" class=\"dataframe\">\n",
       "  <thead>\n",
       "    <tr style=\"text-align: right;\">\n",
       "      <th></th>\n",
       "      <th>Order_id</th>\n",
       "      <th>Cust_review</th>\n",
       "      <th>Sentiment</th>\n",
       "    </tr>\n",
       "  </thead>\n",
       "  <tbody>\n",
       "    <tr>\n",
       "      <th>706</th>\n",
       "      <td>5483</td>\n",
       "      <td>Delivery was delayed but the product is fine.</td>\n",
       "      <td>Neutral</td>\n",
       "    </tr>\n",
       "    <tr>\n",
       "      <th>3332</th>\n",
       "      <td>5681</td>\n",
       "      <td>Excellent quality and fast service.</td>\n",
       "      <td>Positive</td>\n",
       "    </tr>\n",
       "    <tr>\n",
       "      <th>2814</th>\n",
       "      <td>6561</td>\n",
       "      <td>Highly recommend this product and seller.</td>\n",
       "      <td>Mixed Positive</td>\n",
       "    </tr>\n",
       "    <tr>\n",
       "      <th>1415</th>\n",
       "      <td>7688</td>\n",
       "      <td>Product as described, no issues at all.</td>\n",
       "      <td>Mixed Negative</td>\n",
       "    </tr>\n",
       "    <tr>\n",
       "      <th>2993</th>\n",
       "      <td>3580</td>\n",
       "      <td>Great experience from order to delivery.</td>\n",
       "      <td>Positive</td>\n",
       "    </tr>\n",
       "  </tbody>\n",
       "</table>\n",
       "</div>"
      ],
      "text/plain": [
       "      Order_id                                    Cust_review       Sentiment\n",
       "706       5483  Delivery was delayed but the product is fine.         Neutral\n",
       "3332      5681            Excellent quality and fast service.        Positive\n",
       "2814      6561      Highly recommend this product and seller.  Mixed Positive\n",
       "1415      7688        Product as described, no issues at all.  Mixed Negative\n",
       "2993      3580       Great experience from order to delivery.        Positive"
      ]
     },
     "execution_count": 30,
     "metadata": {},
     "output_type": "execute_result"
    }
   ],
   "source": [
    "df.sample(5)[['Order_id','Cust_review','Sentiment']]"
   ]
  },
  {
   "cell_type": "code",
   "execution_count": 31,
   "id": "69c2cf0a",
   "metadata": {},
   "outputs": [],
   "source": [
    "import seaborn as sns\n",
    "import matplotlib.pyplot as plt"
   ]
  },
  {
   "cell_type": "code",
   "execution_count": 32,
   "id": "a6015590",
   "metadata": {},
   "outputs": [
    {
     "data": {
      "text/html": [
       "<div>\n",
       "<style scoped>\n",
       "    .dataframe tbody tr th:only-of-type {\n",
       "        vertical-align: middle;\n",
       "    }\n",
       "\n",
       "    .dataframe tbody tr th {\n",
       "        vertical-align: top;\n",
       "    }\n",
       "\n",
       "    .dataframe thead th {\n",
       "        text-align: right;\n",
       "    }\n",
       "</style>\n",
       "<table border=\"1\" class=\"dataframe\">\n",
       "  <thead>\n",
       "    <tr style=\"text-align: right;\">\n",
       "      <th></th>\n",
       "      <th>Sentiment</th>\n",
       "      <th>Count</th>\n",
       "    </tr>\n",
       "  </thead>\n",
       "  <tbody>\n",
       "    <tr>\n",
       "      <th>4</th>\n",
       "      <td>Positive</td>\n",
       "      <td>2508</td>\n",
       "    </tr>\n",
       "    <tr>\n",
       "      <th>1</th>\n",
       "      <td>Mixed Positive</td>\n",
       "      <td>1116</td>\n",
       "    </tr>\n",
       "    <tr>\n",
       "      <th>3</th>\n",
       "      <td>Neutral</td>\n",
       "      <td>367</td>\n",
       "    </tr>\n",
       "    <tr>\n",
       "      <th>0</th>\n",
       "      <td>Mixed Negative</td>\n",
       "      <td>298</td>\n",
       "    </tr>\n",
       "    <tr>\n",
       "      <th>2</th>\n",
       "      <td>Negative</td>\n",
       "      <td>67</td>\n",
       "    </tr>\n",
       "  </tbody>\n",
       "</table>\n",
       "</div>"
      ],
      "text/plain": [
       "        Sentiment  Count\n",
       "4        Positive   2508\n",
       "1  Mixed Positive   1116\n",
       "3         Neutral    367\n",
       "0  Mixed Negative    298\n",
       "2        Negative     67"
      ]
     },
     "execution_count": 32,
     "metadata": {},
     "output_type": "execute_result"
    }
   ],
   "source": [
    "sent2 = df.groupby(['Sentiment']).size().reset_index(name='Count').sort_values(by='Count', ascending=False)\n",
    "sent2"
   ]
  },
  {
   "cell_type": "code",
   "execution_count": 33,
   "id": "b124f5a5",
   "metadata": {},
   "outputs": [
    {
     "data": {
      "image/png": "[encoded data removed]",
      "text/plain": [
       "<Figure size 600x400 with 1 Axes>"
      ]
     },
     "metadata": {},
     "output_type": "display_data"
    }
   ],
   "source": [
    "import warnings\n",
    "warnings.filterwarnings('ignore')\n",
    "\n",
    "plt.figure(figsize=(6,4)) \n",
    "ax = sns.barplot(data=sent2, x='Sentiment', y='Count', palette='pastel', edgecolor='black')\n",
    "\n",
    "plt.xticks(rotation=15, ha='center')\n",
    "\n",
    "\n",
    "for bars in ax.containers:\n",
    "    ax.bar_label(bars, padding=4)\n",
    "\n",
    "plt.xlabel('Sentiment')\n",
    "plt.ylabel('Count')\n",
    "plt.title('Sentiment Distribution')\n",
    "\n",
    "max_count = sent2['Count'].max()\n",
    "plt.ylim(0, max_count + max_count * 0.1)\n",
    "\n",
    "plt.tight_layout()\n",
    "plt.show()"
   ]
  },
  {
   "cell_type": "code",
   "execution_count": 34,
   "id": "becac876",
   "metadata": {},
   "outputs": [],
   "source": [
    "df[['Order_id', 'Cust_review','Sentiment']].to_csv('Customer_Feedback_Analysis.csv', index =False)"
   ]
  }
 ],
 "metadata": {
  "kernelspec": {
   "display_name": "Python 3",
   "language": "python",
   "name": "python3"
  },
  "language_info": {
   "codemirror_mode": {
    "name": "ipython",
    "version": 3
   },
   "file_extension": ".py",
   "mimetype": "text/x-python",
   "name": "python",
   "nbconvert_exporter": "python",
   "pygments_lexer": "ipython3",
   "version": "3.13.3"
  }
 },
 "nbformat": 4,
 "nbformat_minor": 5
}
